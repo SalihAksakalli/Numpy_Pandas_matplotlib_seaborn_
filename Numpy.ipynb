{
 "cells": [
  {
   "cell_type": "code",
   "execution_count": 1,
   "id": "b752fe68-239c-4a9c-b57a-459d69cca7e3",
   "metadata": {},
   "outputs": [],
   "source": [
    "import numpy as np "
   ]
  },
  {
   "cell_type": "code",
   "execution_count": 3,
   "id": "9e77de7e-aedd-4ce0-a2aa-bd097f842ddb",
   "metadata": {},
   "outputs": [],
   "source": [
    "data = np.random.randn(3,2)"
   ]
  },
  {
   "cell_type": "code",
   "execution_count": 4,
   "id": "4d9db685-9697-450d-88c8-185e1329c52c",
   "metadata": {},
   "outputs": [
    {
     "data": {
      "text/plain": [
       "array([[-1.36378691, -0.5648162 ],\n",
       "       [ 1.27674573, -0.29982448],\n",
       "       [-1.46226978, -0.79356   ]])"
      ]
     },
     "execution_count": 4,
     "metadata": {},
     "output_type": "execute_result"
    }
   ],
   "source": [
    "data"
   ]
  },
  {
   "cell_type": "code",
   "execution_count": 7,
   "id": "35484d53-9a5e-47b1-adcf-d2ad44152bb1",
   "metadata": {},
   "outputs": [],
   "source": [
    "new_data = data ** 10"
   ]
  },
  {
   "cell_type": "code",
   "execution_count": 8,
   "id": "06d8ff37-0e86-470a-8991-341905efb215",
   "metadata": {},
   "outputs": [
    {
     "data": {
      "text/plain": [
       "(3, 2)"
      ]
     },
     "execution_count": 8,
     "metadata": {},
     "output_type": "execute_result"
    }
   ],
   "source": [
    "data.shape "
   ]
  },
  {
   "cell_type": "code",
   "execution_count": 9,
   "id": "f02ba2d9-517e-4a37-be02-871fd9356564",
   "metadata": {},
   "outputs": [
    {
     "data": {
      "text/plain": [
       "(3, 2)"
      ]
     },
     "execution_count": 9,
     "metadata": {},
     "output_type": "execute_result"
    }
   ],
   "source": [
    "new_data.shape"
   ]
  },
  {
   "cell_type": "code",
   "execution_count": 10,
   "id": "067ec135-ac01-4e20-93ba-3a557f9718f8",
   "metadata": {},
   "outputs": [
    {
     "data": {
      "text/plain": [
       "dtype('float64')"
      ]
     },
     "execution_count": 10,
     "metadata": {},
     "output_type": "execute_result"
    }
   ],
   "source": [
    "data.dtype"
   ]
  },
  {
   "cell_type": "code",
   "execution_count": 11,
   "id": "138007fd-54ae-4c1a-a076-af6861a2369e",
   "metadata": {},
   "outputs": [],
   "source": [
    "list = [3,6.5,0,1,9]"
   ]
  },
  {
   "cell_type": "code",
   "execution_count": 12,
   "id": "40bb0e83-00fc-4d03-95eb-dba1674e3a95",
   "metadata": {},
   "outputs": [],
   "source": [
    "array = np.array(list)"
   ]
  },
  {
   "cell_type": "code",
   "execution_count": 13,
   "id": "dd72d760-0ed5-429b-a05c-dc4164e0287b",
   "metadata": {},
   "outputs": [
    {
     "data": {
      "text/plain": [
       "array([3. , 6.5, 0. , 1. , 9. ])"
      ]
     },
     "execution_count": 13,
     "metadata": {},
     "output_type": "execute_result"
    }
   ],
   "source": [
    "array"
   ]
  },
  {
   "cell_type": "code",
   "execution_count": 14,
   "id": "f8d26207-334d-4c5a-8eea-42ac0f16a790",
   "metadata": {},
   "outputs": [
    {
     "data": {
      "text/plain": [
       "array([[1, 2, 3],\n",
       "       [4, 5, 6]])"
      ]
     },
     "execution_count": 14,
     "metadata": {},
     "output_type": "execute_result"
    }
   ],
   "source": [
    "list2  = [[1,2,3],[4,5,6]]\n",
    "array2  = np.array(list2)\n",
    "array2"
   ]
  },
  {
   "cell_type": "code",
   "execution_count": 15,
   "id": "e9a2ff6b-c533-42c9-a628-923a36b9f6e8",
   "metadata": {},
   "outputs": [],
   "source": [
    "array3  = np.zeros(10)"
   ]
  },
  {
   "cell_type": "code",
   "execution_count": 20,
   "id": "98488849-14dc-49eb-b862-3c75788d1da8",
   "metadata": {},
   "outputs": [],
   "source": [
    "array3  = np.zeros(10,dtype = int)"
   ]
  },
  {
   "cell_type": "code",
   "execution_count": 22,
   "id": "243b0c29-e37d-4908-a98d-dbfc66748dd0",
   "metadata": {},
   "outputs": [
    {
     "data": {
      "text/plain": [
       "array([0, 0, 0, 0, 0, 0, 0, 0, 0, 0])"
      ]
     },
     "execution_count": 22,
     "metadata": {},
     "output_type": "execute_result"
    }
   ],
   "source": [
    "array3"
   ]
  },
  {
   "cell_type": "code",
   "execution_count": 23,
   "id": "73eeae65-19f8-4ffa-a136-2342fc438a60",
   "metadata": {},
   "outputs": [],
   "source": [
    "array4 = np.ones((1,5))"
   ]
  },
  {
   "cell_type": "code",
   "execution_count": 24,
   "id": "6bb94d1f-2ffd-4128-bbea-bee6aa79adb7",
   "metadata": {},
   "outputs": [
    {
     "data": {
      "text/plain": [
       "array([[1., 1., 1., 1., 1.]])"
      ]
     },
     "execution_count": 24,
     "metadata": {},
     "output_type": "execute_result"
    }
   ],
   "source": [
    "array4"
   ]
  },
  {
   "cell_type": "code",
   "execution_count": 25,
   "id": "899046af-8c44-4074-9151-914f999c2a0a",
   "metadata": {},
   "outputs": [
    {
     "data": {
      "text/plain": [
       "array([0., 0., 0., 0., 0., 0., 0., 0., 0., 0.])"
      ]
     },
     "execution_count": 25,
     "metadata": {},
     "output_type": "execute_result"
    }
   ],
   "source": [
    "array3.astype(np.float64)"
   ]
  },
  {
   "cell_type": "code",
   "execution_count": 27,
   "id": "4853fb8b-858b-4fae-8093-bb2e9590cf78",
   "metadata": {},
   "outputs": [
    {
     "name": "stdout",
     "output_type": "stream",
     "text": [
      "[0 1 2 3 4 5 6 7 8 9]\n",
      "[0 1 2]\n"
     ]
    }
   ],
   "source": [
    "dizi  = np.arange(10)\n",
    "dizi2 =  dizi[:3]\n",
    "\n",
    "print(dizi)\n",
    "print(dizi2)"
   ]
  },
  {
   "cell_type": "code",
   "execution_count": 32,
   "id": "3c35cf2f-5693-4e45-ab9f-8203f28ca58d",
   "metadata": {},
   "outputs": [
    {
     "name": "stdout",
     "output_type": "stream",
     "text": [
      "[1, 2, 3]\n",
      "1\n",
      "[1]\n"
     ]
    }
   ],
   "source": [
    "dizi3 = [[1,2,3],[3,4,5],[6,7,8]]\n",
    "print(dizi3[0])\n",
    "print(dizi3[0][0])\n",
    "print(dizi3[0][:1])"
   ]
  },
  {
   "cell_type": "code",
   "execution_count": 34,
   "id": "e2fb8011-3591-401f-aee3-aa937e0a766e",
   "metadata": {},
   "outputs": [
    {
     "name": "stdout",
     "output_type": "stream",
     "text": [
      "[[ 0  1  2  3]\n",
      " [ 4  5  6  7]\n",
      " [ 8  9 10 11]\n",
      " [12 13 14 15]\n",
      " [16 17 18 19]]\n"
     ]
    }
   ],
   "source": [
    "dizi4  =  np.arange(20).reshape(5,4)\n",
    "print(dizi4)"
   ]
  },
  {
   "cell_type": "code",
   "execution_count": 35,
   "id": "fad4788c-8dea-4be5-881c-f748b47b1071",
   "metadata": {},
   "outputs": [
    {
     "name": "stdout",
     "output_type": "stream",
     "text": [
      "[[ 0  1  2  3  4]\n",
      " [ 5  6  7  8  9]\n",
      " [10 11 12 13 14]\n",
      " [15 16 17 18 19]]\n"
     ]
    }
   ],
   "source": [
    "dizi5  =  np.arange(20).reshape(4,5)\n",
    "print(dizi5)"
   ]
  },
  {
   "cell_type": "code",
   "execution_count": 37,
   "id": "6fed8cbf-b3ef-4f19-9e8f-57818ae9b5b7",
   "metadata": {},
   "outputs": [
    {
     "data": {
      "text/plain": [
       "array([[350, 380, 410, 440, 470],\n",
       "       [380, 414, 448, 482, 516],\n",
       "       [410, 448, 486, 524, 562],\n",
       "       [440, 482, 524, 566, 608],\n",
       "       [470, 516, 562, 608, 654]])"
      ]
     },
     "execution_count": 37,
     "metadata": {},
     "output_type": "execute_result"
    }
   ],
   "source": [
    "np.dot(dizi5.T,dizi5)"
   ]
  },
  {
   "cell_type": "code",
   "execution_count": 38,
   "id": "41c6a8e6-ee0b-499c-bb2e-65c60a22779d",
   "metadata": {},
   "outputs": [
    {
     "data": {
      "text/plain": [
       "9.5"
      ]
     },
     "execution_count": 38,
     "metadata": {},
     "output_type": "execute_result"
    }
   ],
   "source": [
    "dizi5.mean()"
   ]
  },
  {
   "cell_type": "code",
   "execution_count": 47,
   "id": "d6d9aa72-c604-4c0b-97b1-0e8c52754135",
   "metadata": {},
   "outputs": [
    {
     "data": {
      "text/plain": [
       "45"
      ]
     },
     "execution_count": 47,
     "metadata": {},
     "output_type": "execute_result"
    }
   ],
   "source": [
    "dizi.sum()"
   ]
  },
  {
   "cell_type": "code",
   "execution_count": 48,
   "id": "4ed1d7ee-77e1-42c6-a7c7-70ec97218ebc",
   "metadata": {},
   "outputs": [
    {
     "data": {
      "text/plain": [
       "array([ 2.,  7., 12., 17.])"
      ]
     },
     "execution_count": 48,
     "metadata": {},
     "output_type": "execute_result"
    }
   ],
   "source": [
    "dizi5.mean(1) #satır"
   ]
  },
  {
   "cell_type": "code",
   "execution_count": 49,
   "id": "ece4486a-c569-40e6-a0b5-6beefe895f2e",
   "metadata": {},
   "outputs": [
    {
     "data": {
      "text/plain": [
       "array([ 7.5,  8.5,  9.5, 10.5, 11.5])"
      ]
     },
     "execution_count": 49,
     "metadata": {},
     "output_type": "execute_result"
    }
   ],
   "source": [
    "dizi5.mean(0)#sutun "
   ]
  },
  {
   "cell_type": "code",
   "execution_count": 58,
   "id": "f5ebda6e-610a-4c0f-b0a1-123b0799b7d8",
   "metadata": {},
   "outputs": [],
   "source": [
    "dizi6 = np.array([1,1,1,23,23])"
   ]
  },
  {
   "cell_type": "code",
   "execution_count": 59,
   "id": "701cb573-6d0a-41c1-863a-cc3f2d3738a3",
   "metadata": {},
   "outputs": [
    {
     "data": {
      "text/plain": [
       "array([ 1, 23])"
      ]
     },
     "execution_count": 59,
     "metadata": {},
     "output_type": "execute_result"
    }
   ],
   "source": [
    "np.unique(dizi6)"
   ]
  }
 ],
 "metadata": {
  "kernelspec": {
   "display_name": "Python 3 (ipykernel)",
   "language": "python",
   "name": "python3"
  },
  "language_info": {
   "codemirror_mode": {
    "name": "ipython",
    "version": 3
   },
   "file_extension": ".py",
   "mimetype": "text/x-python",
   "name": "python",
   "nbconvert_exporter": "python",
   "pygments_lexer": "ipython3",
   "version": "3.11.5"
  }
 },
 "nbformat": 4,
 "nbformat_minor": 5
}
