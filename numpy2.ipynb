{
 "cells": [
  {
   "cell_type": "code",
   "execution_count": 1,
   "id": "0c721382-2e5c-4565-985a-f7d54645fbf9",
   "metadata": {},
   "outputs": [],
   "source": [
    "import numpy as np "
   ]
  },
  {
   "cell_type": "code",
   "execution_count": 2,
   "id": "61bf97b9-a278-48e2-aaa3-27f780b698af",
   "metadata": {},
   "outputs": [
    {
     "data": {
      "text/plain": [
       "array([ 2,  6, 12, 20])"
      ]
     },
     "execution_count": 2,
     "metadata": {},
     "output_type": "execute_result"
    }
   ],
   "source": [
    "a = np.array([1,2,3,4])\n",
    "b = np.array([2,3,4,5])\n",
    "a * b"
   ]
  },
  {
   "cell_type": "code",
   "execution_count": 3,
   "id": "a8bfe1b2-a9d2-4342-ade5-680f1350c11e",
   "metadata": {},
   "outputs": [],
   "source": [
    "#Creating Numpy arrays"
   ]
  },
  {
   "cell_type": "code",
   "execution_count": 4,
   "id": "288d494a-2f91-4e5d-b31c-b503c55b8334",
   "metadata": {},
   "outputs": [
    {
     "data": {
      "text/plain": [
       "array([1, 2, 3, 4, 5])"
      ]
     },
     "execution_count": 4,
     "metadata": {},
     "output_type": "execute_result"
    }
   ],
   "source": [
    "np.array([1,2,3,4,5])"
   ]
  },
  {
   "cell_type": "code",
   "execution_count": 5,
   "id": "fee8b4cc-111d-4c34-b670-4b8b4ad367ed",
   "metadata": {},
   "outputs": [
    {
     "data": {
      "text/plain": [
       "numpy.ndarray"
      ]
     },
     "execution_count": 5,
     "metadata": {},
     "output_type": "execute_result"
    }
   ],
   "source": [
    "type(np.array([1,2,3,4,5]))"
   ]
  },
  {
   "cell_type": "code",
   "execution_count": 6,
   "id": "ec2dacec-15be-4458-94a0-417b69d4af5e",
   "metadata": {},
   "outputs": [
    {
     "data": {
      "text/plain": [
       "array([2, 6, 7, 6, 3, 8, 6, 5, 7, 0])"
      ]
     },
     "execution_count": 6,
     "metadata": {},
     "output_type": "execute_result"
    }
   ],
   "source": [
    "np.random.randint(0,10,10)"
   ]
  },
  {
   "cell_type": "code",
   "execution_count": 7,
   "id": "efa4bf42-b7ac-46ce-950d-893d06f7729d",
   "metadata": {},
   "outputs": [
    {
     "data": {
      "text/plain": [
       "array([[13.4807039 , 12.86545121, 12.96141673, 14.58601029],\n",
       "       [ 9.74459276,  7.04639884,  7.22409599,  9.65867483],\n",
       "       [13.02703507,  8.34280911, 11.87439491,  7.44317713]])"
      ]
     },
     "execution_count": 7,
     "metadata": {},
     "output_type": "execute_result"
    }
   ],
   "source": [
    "np.random.normal(10,4,(3,4))"
   ]
  },
  {
   "cell_type": "code",
   "execution_count": 8,
   "id": "004e8ca6-db04-47db-bda7-7df97dfff804",
   "metadata": {},
   "outputs": [],
   "source": [
    "# Attib utes of numpy arrays"
   ]
  },
  {
   "cell_type": "code",
   "execution_count": 9,
   "id": "bd32576c-77e3-42c4-b16d-4f7bfdb8f775",
   "metadata": {},
   "outputs": [],
   "source": [
    "#ndim : boyut sayısı\n",
    "#shape : boyut bilgisi\n",
    "#size : toplam eleman sayısı \n",
    "#dtype : array veri type"
   ]
  },
  {
   "cell_type": "code",
   "execution_count": 10,
   "id": "516115fa-2731-4796-9999-040e407a2e11",
   "metadata": {},
   "outputs": [],
   "source": [
    "a = np.random.randint(10,size = 5)"
   ]
  },
  {
   "cell_type": "code",
   "execution_count": 11,
   "id": "e2784151-145b-4faa-9c18-93ff8b82fb05",
   "metadata": {},
   "outputs": [
    {
     "data": {
      "text/plain": [
       "array([9, 1, 3, 1, 0])"
      ]
     },
     "execution_count": 11,
     "metadata": {},
     "output_type": "execute_result"
    }
   ],
   "source": [
    "a"
   ]
  },
  {
   "cell_type": "code",
   "execution_count": 13,
   "id": "25af0151-e83c-4c8d-83a9-f33bb9cbb916",
   "metadata": {},
   "outputs": [
    {
     "data": {
      "text/plain": [
       "1"
      ]
     },
     "execution_count": 13,
     "metadata": {},
     "output_type": "execute_result"
    }
   ],
   "source": [
    "a.ndim # Tek boyutlu "
   ]
  },
  {
   "cell_type": "code",
   "execution_count": 14,
   "id": "d081a001-61c3-43cb-b76c-18db638a3ca2",
   "metadata": {},
   "outputs": [
    {
     "data": {
      "text/plain": [
       "(5,)"
      ]
     },
     "execution_count": 14,
     "metadata": {},
     "output_type": "execute_result"
    }
   ],
   "source": [
    "a.shape"
   ]
  },
  {
   "cell_type": "code",
   "execution_count": 16,
   "id": "7abad326-0618-46d3-ac12-2c0dc7dc3105",
   "metadata": {},
   "outputs": [
    {
     "data": {
      "text/plain": [
       "5"
      ]
     },
     "execution_count": 16,
     "metadata": {},
     "output_type": "execute_result"
    }
   ],
   "source": [
    "a.size # toplam eleman sayısı "
   ]
  },
  {
   "cell_type": "code",
   "execution_count": 17,
   "id": "e0eb0eb4-bbda-4da9-8a88-d76f4f917165",
   "metadata": {},
   "outputs": [
    {
     "data": {
      "text/plain": [
       "dtype('int32')"
      ]
     },
     "execution_count": 17,
     "metadata": {},
     "output_type": "execute_result"
    }
   ],
   "source": [
    "a.dtype"
   ]
  },
  {
   "cell_type": "code",
   "execution_count": 19,
   "id": "1381fdcb-42b8-455d-9ab0-e1fe6c154d1d",
   "metadata": {},
   "outputs": [],
   "source": [
    "ar = np.random.randint(10,size = 9)"
   ]
  },
  {
   "cell_type": "code",
   "execution_count": 21,
   "id": "375174ba-6c86-489e-86ee-3a95e3511ae2",
   "metadata": {},
   "outputs": [
    {
     "data": {
      "text/plain": [
       "array([2, 4, 0, 4, 8, 4, 4, 9, 8])"
      ]
     },
     "execution_count": 21,
     "metadata": {},
     "output_type": "execute_result"
    }
   ],
   "source": [
    "ar"
   ]
  },
  {
   "cell_type": "code",
   "execution_count": 20,
   "id": "affeab24-2856-4a15-8fb1-884870989b53",
   "metadata": {},
   "outputs": [
    {
     "data": {
      "text/plain": [
       "array([[2, 4, 0],\n",
       "       [4, 8, 4],\n",
       "       [4, 9, 8]])"
      ]
     },
     "execution_count": 20,
     "metadata": {},
     "output_type": "execute_result"
    }
   ],
   "source": [
    "ar.reshape(3,3)"
   ]
  },
  {
   "cell_type": "code",
   "execution_count": 22,
   "id": "066b5a40-05db-43b5-a9af-c3897fa71bdf",
   "metadata": {},
   "outputs": [],
   "source": [
    "# Index selection "
   ]
  },
  {
   "cell_type": "code",
   "execution_count": 23,
   "id": "463912e6-0a69-4cb9-81ab-e824732dc293",
   "metadata": {},
   "outputs": [],
   "source": [
    "K = np.random.randint(10,size = 10)"
   ]
  },
  {
   "cell_type": "code",
   "execution_count": 24,
   "id": "30ec3da2-fbb6-41f1-9ddd-87033eeec1f6",
   "metadata": {},
   "outputs": [
    {
     "data": {
      "text/plain": [
       "3"
      ]
     },
     "execution_count": 24,
     "metadata": {},
     "output_type": "execute_result"
    }
   ],
   "source": [
    "K[0]"
   ]
  },
  {
   "cell_type": "code",
   "execution_count": 25,
   "id": "19b4715c-f786-4afd-9b20-a4647176a787",
   "metadata": {},
   "outputs": [
    {
     "data": {
      "text/plain": [
       "array([3, 3, 8, 8, 7])"
      ]
     },
     "execution_count": 25,
     "metadata": {},
     "output_type": "execute_result"
    }
   ],
   "source": [
    "K[0:5]"
   ]
  },
  {
   "cell_type": "code",
   "execution_count": 26,
   "id": "8aa205db-fd10-450f-b892-3ae612d87481",
   "metadata": {},
   "outputs": [],
   "source": [
    "K[0] = 999"
   ]
  },
  {
   "cell_type": "code",
   "execution_count": 27,
   "id": "9c7acc54-0fc9-46ee-bba8-8b90966e2fa2",
   "metadata": {},
   "outputs": [
    {
     "data": {
      "text/plain": [
       "999"
      ]
     },
     "execution_count": 27,
     "metadata": {},
     "output_type": "execute_result"
    }
   ],
   "source": [
    "K[0]"
   ]
  },
  {
   "cell_type": "code",
   "execution_count": 28,
   "id": "52f7b607-f439-4fa3-809d-40e4a77b8f54",
   "metadata": {},
   "outputs": [],
   "source": [
    "m = np.random.randint(10,size = (3,5))"
   ]
  },
  {
   "cell_type": "code",
   "execution_count": 29,
   "id": "87cffd6d-c992-4a8c-b142-aaf4a04f9c36",
   "metadata": {},
   "outputs": [
    {
     "data": {
      "text/plain": [
       "array([[5, 2, 1, 3, 9],\n",
       "       [7, 9, 8, 9, 5],\n",
       "       [8, 8, 1, 9, 3]])"
      ]
     },
     "execution_count": 29,
     "metadata": {},
     "output_type": "execute_result"
    }
   ],
   "source": [
    "m "
   ]
  },
  {
   "cell_type": "code",
   "execution_count": 30,
   "id": "0f1392e0-1a36-4b8f-a0de-78e65a94a133",
   "metadata": {},
   "outputs": [
    {
     "data": {
      "text/plain": [
       "5"
      ]
     },
     "execution_count": 30,
     "metadata": {},
     "output_type": "execute_result"
    }
   ],
   "source": [
    "m[0][0]"
   ]
  },
  {
   "cell_type": "code",
   "execution_count": 31,
   "id": "792b10e6-07d5-4e55-868e-7d000bf1b96e",
   "metadata": {},
   "outputs": [
    {
     "data": {
      "text/plain": [
       "9"
      ]
     },
     "execution_count": 31,
     "metadata": {},
     "output_type": "execute_result"
    }
   ],
   "source": [
    "m[1][1]"
   ]
  },
  {
   "cell_type": "code",
   "execution_count": 32,
   "id": "ecdd2338-a05d-4994-a1ce-2326e3e56899",
   "metadata": {},
   "outputs": [],
   "source": [
    "m[1][1] = 72"
   ]
  },
  {
   "cell_type": "code",
   "execution_count": 33,
   "id": "fb86f021-0021-4ccf-a5b7-66ec04bce06e",
   "metadata": {},
   "outputs": [
    {
     "data": {
      "text/plain": [
       "72"
      ]
     },
     "execution_count": 33,
     "metadata": {},
     "output_type": "execute_result"
    }
   ],
   "source": [
    "m[1][1]"
   ]
  },
  {
   "cell_type": "code",
   "execution_count": 35,
   "id": "429701b2-0a5d-4ec3-9305-4961ed5b8e86",
   "metadata": {},
   "outputs": [],
   "source": [
    "v = np.arange(0,30,3)"
   ]
  },
  {
   "cell_type": "code",
   "execution_count": null,
   "id": "db4a4797-5e1d-49ff-bf1c-8cc286320979",
   "metadata": {},
   "outputs": [],
   "source": [
    "#Fancy İndex"
   ]
  },
  {
   "cell_type": "code",
   "execution_count": 36,
   "id": "3b93cc8b-61d8-4e3f-a9b8-e9f5bd975500",
   "metadata": {},
   "outputs": [
    {
     "data": {
      "text/plain": [
       "array([ 0,  3,  6,  9, 12, 15, 18, 21, 24, 27])"
      ]
     },
     "execution_count": 36,
     "metadata": {},
     "output_type": "execute_result"
    }
   ],
   "source": [
    "v"
   ]
  },
  {
   "cell_type": "code",
   "execution_count": 37,
   "id": "2553b13c-fbc3-452e-aa40-9be8fce1ac02",
   "metadata": {},
   "outputs": [
    {
     "data": {
      "text/plain": [
       "array([3, 6, 9])"
      ]
     },
     "execution_count": 37,
     "metadata": {},
     "output_type": "execute_result"
    }
   ],
   "source": [
    "catch = [1,2,3]\n",
    "v[catch]"
   ]
  },
  {
   "cell_type": "code",
   "execution_count": 38,
   "id": "205da9c3-899c-4cea-8a47-3fed23406acc",
   "metadata": {},
   "outputs": [],
   "source": [
    "l = np.array([1,2,3,4,5])"
   ]
  },
  {
   "cell_type": "code",
   "execution_count": 39,
   "id": "b01331e6-b4f1-4c57-a34d-303614713655",
   "metadata": {},
   "outputs": [
    {
     "data": {
      "text/plain": [
       "array([1, 2, 3, 4, 5])"
      ]
     },
     "execution_count": 39,
     "metadata": {},
     "output_type": "execute_result"
    }
   ],
   "source": [
    "l"
   ]
  },
  {
   "cell_type": "code",
   "execution_count": 40,
   "id": "b5fbb5d3-54b6-497c-8206-b4d710360ba2",
   "metadata": {},
   "outputs": [
    {
     "data": {
      "text/plain": [
       "array([1, 2])"
      ]
     },
     "execution_count": 40,
     "metadata": {},
     "output_type": "execute_result"
    }
   ],
   "source": [
    "l[l<3]"
   ]
  },
  {
   "cell_type": "code",
   "execution_count": 41,
   "id": "1cee8ef8-115a-4312-9e5e-da31c2dbee71",
   "metadata": {},
   "outputs": [],
   "source": [
    "# Mathmetical Operations"
   ]
  },
  {
   "cell_type": "code",
   "execution_count": 43,
   "id": "f53c15d6-5067-4a52-ba19-f9a6f47a3ba7",
   "metadata": {},
   "outputs": [],
   "source": [
    "v = np.array([1,2,3,4,5])\n",
    "s = v / 5\n",
    "b = v * 5 / 10\n",
    "n = v ** 2"
   ]
  },
  {
   "cell_type": "code",
   "execution_count": 44,
   "id": "ee3c5f1e-8c88-4acd-ba7c-476e35d1190b",
   "metadata": {},
   "outputs": [
    {
     "data": {
      "text/plain": [
       "array([0.2, 0.4, 0.6, 0.8, 1. ])"
      ]
     },
     "execution_count": 44,
     "metadata": {},
     "output_type": "execute_result"
    }
   ],
   "source": [
    "s"
   ]
  },
  {
   "cell_type": "code",
   "execution_count": 45,
   "id": "5a2bbe34-0d04-444f-b4f2-eb05de1abca2",
   "metadata": {},
   "outputs": [
    {
     "data": {
      "text/plain": [
       "array([0.5, 1. , 1.5, 2. , 2.5])"
      ]
     },
     "execution_count": 45,
     "metadata": {},
     "output_type": "execute_result"
    }
   ],
   "source": [
    "b"
   ]
  },
  {
   "cell_type": "code",
   "execution_count": 46,
   "id": "018f0f98-a528-477b-be30-13e3ce40bb18",
   "metadata": {},
   "outputs": [
    {
     "data": {
      "text/plain": [
       "array([ 1,  4,  9, 16, 25])"
      ]
     },
     "execution_count": 46,
     "metadata": {},
     "output_type": "execute_result"
    }
   ],
   "source": [
    "n"
   ]
  },
  {
   "cell_type": "code",
   "execution_count": 49,
   "id": "73cfc412-bc65-46b7-9a5a-4e7ac13d5fc3",
   "metadata": {},
   "outputs": [
    {
     "data": {
      "text/plain": [
       "array([1.85714286, 2.71428571])"
      ]
     },
     "execution_count": 49,
     "metadata": {},
     "output_type": "execute_result"
    }
   ],
   "source": [
    "# 5 * x0 + x1 = 12\n",
    "# x0 + 3 * x1 = 10\n",
    "\n",
    "\n",
    "a = np.array([[5,1],[1,3]])\n",
    "b = np.array([12,10])\n",
    "\n",
    "np.linalg.solve(a,b)"
   ]
  },
  {
   "cell_type": "code",
   "execution_count": null,
   "id": "1009ab0f-16b4-412e-bde9-e4618ed715ef",
   "metadata": {},
   "outputs": [],
   "source": []
  }
 ],
 "metadata": {
  "kernelspec": {
   "display_name": "Python 3 (ipykernel)",
   "language": "python",
   "name": "python3"
  },
  "language_info": {
   "codemirror_mode": {
    "name": "ipython",
    "version": 3
   },
   "file_extension": ".py",
   "mimetype": "text/x-python",
   "name": "python",
   "nbconvert_exporter": "python",
   "pygments_lexer": "ipython3",
   "version": "3.11.5"
  }
 },
 "nbformat": 4,
 "nbformat_minor": 5
}
